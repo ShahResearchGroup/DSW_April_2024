{
  "nbformat": 4,
  "nbformat_minor": 0,
  "metadata": {
    "colab": {
      "provenance": []
    },
    "kernelspec": {
      "name": "python3",
      "display_name": "Python 3"
    },
    "language_info": {
      "name": "python"
    }
  },
  "cells": [
    {
      "cell_type": "code",
      "execution_count": null,
      "metadata": {
        "id": "4bLK5pU4bmX9"
      },
      "outputs": [],
      "source": []
    },
    {
      "cell_type": "markdown",
      "source": [
        "# Decision Tree Model\n",
        "\n",
        "Author: Jindal K. Shah, School of Chemical Engineering, Oklahoma State University\n",
        "\n",
        "Data Science Workshop, April 26, 2024\n",
        "\n",
        "\n",
        "In this Google colab, we will use a decision tree model to predict the boiling point data for organic compounds. The dataset was acquired from the paper\n",
        "\n",
        "Journal of Chemical Education, 96(4), 697-703, 2019"
      ],
      "metadata": {
        "id": "0-Fy0jm4b2Kb"
      }
    },
    {
      "cell_type": "code",
      "source": [
        "import numpy as np\n",
        "from google.colab import files\n",
        "uploaded = files.upload()\n"
      ],
      "metadata": {
        "colab": {
          "base_uri": "https://localhost:8080/",
          "height": 76
        },
        "id": "EHoPh1S3cVkn",
        "outputId": "c5f10778-7a55-4862-b744-e3db5dd5b4c9"
      },
      "execution_count": null,
      "outputs": [
        {
          "output_type": "display_data",
          "data": {
            "text/plain": [
              "<IPython.core.display.HTML object>"
            ],
            "text/html": [
              "\n",
              "     <input type=\"file\" id=\"files-1fd9f520-233a-41e5-8b81-dd74933848bb\" name=\"files[]\" multiple disabled\n",
              "        style=\"border:none\" />\n",
              "     <output id=\"result-1fd9f520-233a-41e5-8b81-dd74933848bb\">\n",
              "      Upload widget is only available when the cell has been executed in the\n",
              "      current browser session. Please rerun this cell to enable.\n",
              "      </output>\n",
              "      <script>// Copyright 2017 Google LLC\n",
              "//\n",
              "// Licensed under the Apache License, Version 2.0 (the \"License\");\n",
              "// you may not use this file except in compliance with the License.\n",
              "// You may obtain a copy of the License at\n",
              "//\n",
              "//      http://www.apache.org/licenses/LICENSE-2.0\n",
              "//\n",
              "// Unless required by applicable law or agreed to in writing, software\n",
              "// distributed under the License is distributed on an \"AS IS\" BASIS,\n",
              "// WITHOUT WARRANTIES OR CONDITIONS OF ANY KIND, either express or implied.\n",
              "// See the License for the specific language governing permissions and\n",
              "// limitations under the License.\n",
              "\n",
              "/**\n",
              " * @fileoverview Helpers for google.colab Python module.\n",
              " */\n",
              "(function(scope) {\n",
              "function span(text, styleAttributes = {}) {\n",
              "  const element = document.createElement('span');\n",
              "  element.textContent = text;\n",
              "  for (const key of Object.keys(styleAttributes)) {\n",
              "    element.style[key] = styleAttributes[key];\n",
              "  }\n",
              "  return element;\n",
              "}\n",
              "\n",
              "// Max number of bytes which will be uploaded at a time.\n",
              "const MAX_PAYLOAD_SIZE = 100 * 1024;\n",
              "\n",
              "function _uploadFiles(inputId, outputId) {\n",
              "  const steps = uploadFilesStep(inputId, outputId);\n",
              "  const outputElement = document.getElementById(outputId);\n",
              "  // Cache steps on the outputElement to make it available for the next call\n",
              "  // to uploadFilesContinue from Python.\n",
              "  outputElement.steps = steps;\n",
              "\n",
              "  return _uploadFilesContinue(outputId);\n",
              "}\n",
              "\n",
              "// This is roughly an async generator (not supported in the browser yet),\n",
              "// where there are multiple asynchronous steps and the Python side is going\n",
              "// to poll for completion of each step.\n",
              "// This uses a Promise to block the python side on completion of each step,\n",
              "// then passes the result of the previous step as the input to the next step.\n",
              "function _uploadFilesContinue(outputId) {\n",
              "  const outputElement = document.getElementById(outputId);\n",
              "  const steps = outputElement.steps;\n",
              "\n",
              "  const next = steps.next(outputElement.lastPromiseValue);\n",
              "  return Promise.resolve(next.value.promise).then((value) => {\n",
              "    // Cache the last promise value to make it available to the next\n",
              "    // step of the generator.\n",
              "    outputElement.lastPromiseValue = value;\n",
              "    return next.value.response;\n",
              "  });\n",
              "}\n",
              "\n",
              "/**\n",
              " * Generator function which is called between each async step of the upload\n",
              " * process.\n",
              " * @param {string} inputId Element ID of the input file picker element.\n",
              " * @param {string} outputId Element ID of the output display.\n",
              " * @return {!Iterable<!Object>} Iterable of next steps.\n",
              " */\n",
              "function* uploadFilesStep(inputId, outputId) {\n",
              "  const inputElement = document.getElementById(inputId);\n",
              "  inputElement.disabled = false;\n",
              "\n",
              "  const outputElement = document.getElementById(outputId);\n",
              "  outputElement.innerHTML = '';\n",
              "\n",
              "  const pickedPromise = new Promise((resolve) => {\n",
              "    inputElement.addEventListener('change', (e) => {\n",
              "      resolve(e.target.files);\n",
              "    });\n",
              "  });\n",
              "\n",
              "  const cancel = document.createElement('button');\n",
              "  inputElement.parentElement.appendChild(cancel);\n",
              "  cancel.textContent = 'Cancel upload';\n",
              "  const cancelPromise = new Promise((resolve) => {\n",
              "    cancel.onclick = () => {\n",
              "      resolve(null);\n",
              "    };\n",
              "  });\n",
              "\n",
              "  // Wait for the user to pick the files.\n",
              "  const files = yield {\n",
              "    promise: Promise.race([pickedPromise, cancelPromise]),\n",
              "    response: {\n",
              "      action: 'starting',\n",
              "    }\n",
              "  };\n",
              "\n",
              "  cancel.remove();\n",
              "\n",
              "  // Disable the input element since further picks are not allowed.\n",
              "  inputElement.disabled = true;\n",
              "\n",
              "  if (!files) {\n",
              "    return {\n",
              "      response: {\n",
              "        action: 'complete',\n",
              "      }\n",
              "    };\n",
              "  }\n",
              "\n",
              "  for (const file of files) {\n",
              "    const li = document.createElement('li');\n",
              "    li.append(span(file.name, {fontWeight: 'bold'}));\n",
              "    li.append(span(\n",
              "        `(${file.type || 'n/a'}) - ${file.size} bytes, ` +\n",
              "        `last modified: ${\n",
              "            file.lastModifiedDate ? file.lastModifiedDate.toLocaleDateString() :\n",
              "                                    'n/a'} - `));\n",
              "    const percent = span('0% done');\n",
              "    li.appendChild(percent);\n",
              "\n",
              "    outputElement.appendChild(li);\n",
              "\n",
              "    const fileDataPromise = new Promise((resolve) => {\n",
              "      const reader = new FileReader();\n",
              "      reader.onload = (e) => {\n",
              "        resolve(e.target.result);\n",
              "      };\n",
              "      reader.readAsArrayBuffer(file);\n",
              "    });\n",
              "    // Wait for the data to be ready.\n",
              "    let fileData = yield {\n",
              "      promise: fileDataPromise,\n",
              "      response: {\n",
              "        action: 'continue',\n",
              "      }\n",
              "    };\n",
              "\n",
              "    // Use a chunked sending to avoid message size limits. See b/62115660.\n",
              "    let position = 0;\n",
              "    do {\n",
              "      const length = Math.min(fileData.byteLength - position, MAX_PAYLOAD_SIZE);\n",
              "      const chunk = new Uint8Array(fileData, position, length);\n",
              "      position += length;\n",
              "\n",
              "      const base64 = btoa(String.fromCharCode.apply(null, chunk));\n",
              "      yield {\n",
              "        response: {\n",
              "          action: 'append',\n",
              "          file: file.name,\n",
              "          data: base64,\n",
              "        },\n",
              "      };\n",
              "\n",
              "      let percentDone = fileData.byteLength === 0 ?\n",
              "          100 :\n",
              "          Math.round((position / fileData.byteLength) * 100);\n",
              "      percent.textContent = `${percentDone}% done`;\n",
              "\n",
              "    } while (position < fileData.byteLength);\n",
              "  }\n",
              "\n",
              "  // All done.\n",
              "  yield {\n",
              "    response: {\n",
              "      action: 'complete',\n",
              "    }\n",
              "  };\n",
              "}\n",
              "\n",
              "scope.google = scope.google || {};\n",
              "scope.google.colab = scope.google.colab || {};\n",
              "scope.google.colab._files = {\n",
              "  _uploadFiles,\n",
              "  _uploadFilesContinue,\n",
              "};\n",
              "})(self);\n",
              "</script> "
            ]
          },
          "metadata": {}
        },
        {
          "output_type": "stream",
          "name": "stdout",
          "text": [
            "Saving boiling_point_small.csv to boiling_point_small.csv\n"
          ]
        }
      ]
    },
    {
      "cell_type": "code",
      "source": [
        "import pandas as pd\n",
        "import io\n",
        "\n",
        "# read the data as a pandas dataframe\n",
        "df = pd.read_csv(io.BytesIO(uploaded['boiling_point_small.csv']))\n"
      ],
      "metadata": {
        "id": "PFOtSU88cmER"
      },
      "execution_count": null,
      "outputs": []
    },
    {
      "cell_type": "code",
      "source": [
        "# let us look at the data\n",
        "df.describe()"
      ],
      "metadata": {
        "id": "_oel7sb1dA95",
        "colab": {
          "base_uri": "https://localhost:8080/",
          "height": 318
        },
        "outputId": "f8d0d9e3-94fc-4ec0-eb5e-a285d50f5520"
      },
      "execution_count": null,
      "outputs": [
        {
          "output_type": "execute_result",
          "data": {
            "text/plain": [
              "       Unnamed: 0   molweight  critical temperature (K)  acentric factor  \\\n",
              "count  100.000000  100.000000                100.000000       100.000000   \n",
              "mean    50.500000  157.134262                634.884000         0.521700   \n",
              "std     29.011492   93.589816                118.079564         0.182879   \n",
              "min      1.000000   58.080040                374.180000         0.224000   \n",
              "25%     25.750000  102.165720                569.000000         0.341000   \n",
              "50%     50.500000  134.134998                631.000000         0.508000   \n",
              "75%     75.250000  162.274920                697.150000         0.709250   \n",
              "max    100.000000  547.682640                992.100000         0.844000   \n",
              "\n",
              "       boiling point (K)  Unnamed: 6  Unnamed: 7  Unnamed: 8  Unnamed: 9  \n",
              "count         100.000000         0.0         0.0         0.0         0.0  \n",
              "mean          448.513700         NaN         NaN         NaN         NaN  \n",
              "std            97.891808         NaN         NaN         NaN         NaN  \n",
              "min           247.080000         NaN         NaN         NaN         NaN  \n",
              "25%           403.000000         NaN         NaN         NaN         NaN  \n",
              "50%           436.225000         NaN         NaN         NaN         NaN  \n",
              "75%           486.237500         NaN         NaN         NaN         NaN  \n",
              "max           693.150000         NaN         NaN         NaN         NaN  "
            ],
            "text/html": [
              "\n",
              "  <div id=\"df-058aedb4-7bd9-4f4b-8605-d36dd22217f3\" class=\"colab-df-container\">\n",
              "    <div>\n",
              "<style scoped>\n",
              "    .dataframe tbody tr th:only-of-type {\n",
              "        vertical-align: middle;\n",
              "    }\n",
              "\n",
              "    .dataframe tbody tr th {\n",
              "        vertical-align: top;\n",
              "    }\n",
              "\n",
              "    .dataframe thead th {\n",
              "        text-align: right;\n",
              "    }\n",
              "</style>\n",
              "<table border=\"1\" class=\"dataframe\">\n",
              "  <thead>\n",
              "    <tr style=\"text-align: right;\">\n",
              "      <th></th>\n",
              "      <th>Unnamed: 0</th>\n",
              "      <th>molweight</th>\n",
              "      <th>critical temperature (K)</th>\n",
              "      <th>acentric factor</th>\n",
              "      <th>boiling point (K)</th>\n",
              "      <th>Unnamed: 6</th>\n",
              "      <th>Unnamed: 7</th>\n",
              "      <th>Unnamed: 8</th>\n",
              "      <th>Unnamed: 9</th>\n",
              "    </tr>\n",
              "  </thead>\n",
              "  <tbody>\n",
              "    <tr>\n",
              "      <th>count</th>\n",
              "      <td>100.000000</td>\n",
              "      <td>100.000000</td>\n",
              "      <td>100.000000</td>\n",
              "      <td>100.000000</td>\n",
              "      <td>100.000000</td>\n",
              "      <td>0.0</td>\n",
              "      <td>0.0</td>\n",
              "      <td>0.0</td>\n",
              "      <td>0.0</td>\n",
              "    </tr>\n",
              "    <tr>\n",
              "      <th>mean</th>\n",
              "      <td>50.500000</td>\n",
              "      <td>157.134262</td>\n",
              "      <td>634.884000</td>\n",
              "      <td>0.521700</td>\n",
              "      <td>448.513700</td>\n",
              "      <td>NaN</td>\n",
              "      <td>NaN</td>\n",
              "      <td>NaN</td>\n",
              "      <td>NaN</td>\n",
              "    </tr>\n",
              "    <tr>\n",
              "      <th>std</th>\n",
              "      <td>29.011492</td>\n",
              "      <td>93.589816</td>\n",
              "      <td>118.079564</td>\n",
              "      <td>0.182879</td>\n",
              "      <td>97.891808</td>\n",
              "      <td>NaN</td>\n",
              "      <td>NaN</td>\n",
              "      <td>NaN</td>\n",
              "      <td>NaN</td>\n",
              "    </tr>\n",
              "    <tr>\n",
              "      <th>min</th>\n",
              "      <td>1.000000</td>\n",
              "      <td>58.080040</td>\n",
              "      <td>374.180000</td>\n",
              "      <td>0.224000</td>\n",
              "      <td>247.080000</td>\n",
              "      <td>NaN</td>\n",
              "      <td>NaN</td>\n",
              "      <td>NaN</td>\n",
              "      <td>NaN</td>\n",
              "    </tr>\n",
              "    <tr>\n",
              "      <th>25%</th>\n",
              "      <td>25.750000</td>\n",
              "      <td>102.165720</td>\n",
              "      <td>569.000000</td>\n",
              "      <td>0.341000</td>\n",
              "      <td>403.000000</td>\n",
              "      <td>NaN</td>\n",
              "      <td>NaN</td>\n",
              "      <td>NaN</td>\n",
              "      <td>NaN</td>\n",
              "    </tr>\n",
              "    <tr>\n",
              "      <th>50%</th>\n",
              "      <td>50.500000</td>\n",
              "      <td>134.134998</td>\n",
              "      <td>631.000000</td>\n",
              "      <td>0.508000</td>\n",
              "      <td>436.225000</td>\n",
              "      <td>NaN</td>\n",
              "      <td>NaN</td>\n",
              "      <td>NaN</td>\n",
              "      <td>NaN</td>\n",
              "    </tr>\n",
              "    <tr>\n",
              "      <th>75%</th>\n",
              "      <td>75.250000</td>\n",
              "      <td>162.274920</td>\n",
              "      <td>697.150000</td>\n",
              "      <td>0.709250</td>\n",
              "      <td>486.237500</td>\n",
              "      <td>NaN</td>\n",
              "      <td>NaN</td>\n",
              "      <td>NaN</td>\n",
              "      <td>NaN</td>\n",
              "    </tr>\n",
              "    <tr>\n",
              "      <th>max</th>\n",
              "      <td>100.000000</td>\n",
              "      <td>547.682640</td>\n",
              "      <td>992.100000</td>\n",
              "      <td>0.844000</td>\n",
              "      <td>693.150000</td>\n",
              "      <td>NaN</td>\n",
              "      <td>NaN</td>\n",
              "      <td>NaN</td>\n",
              "      <td>NaN</td>\n",
              "    </tr>\n",
              "  </tbody>\n",
              "</table>\n",
              "</div>\n",
              "    <div class=\"colab-df-buttons\">\n",
              "\n",
              "  <div class=\"colab-df-container\">\n",
              "    <button class=\"colab-df-convert\" onclick=\"convertToInteractive('df-058aedb4-7bd9-4f4b-8605-d36dd22217f3')\"\n",
              "            title=\"Convert this dataframe to an interactive table.\"\n",
              "            style=\"display:none;\">\n",
              "\n",
              "  <svg xmlns=\"http://www.w3.org/2000/svg\" height=\"24px\" viewBox=\"0 -960 960 960\">\n",
              "    <path d=\"M120-120v-720h720v720H120Zm60-500h600v-160H180v160Zm220 220h160v-160H400v160Zm0 220h160v-160H400v160ZM180-400h160v-160H180v160Zm440 0h160v-160H620v160ZM180-180h160v-160H180v160Zm440 0h160v-160H620v160Z\"/>\n",
              "  </svg>\n",
              "    </button>\n",
              "\n",
              "  <style>\n",
              "    .colab-df-container {\n",
              "      display:flex;\n",
              "      gap: 12px;\n",
              "    }\n",
              "\n",
              "    .colab-df-convert {\n",
              "      background-color: #E8F0FE;\n",
              "      border: none;\n",
              "      border-radius: 50%;\n",
              "      cursor: pointer;\n",
              "      display: none;\n",
              "      fill: #1967D2;\n",
              "      height: 32px;\n",
              "      padding: 0 0 0 0;\n",
              "      width: 32px;\n",
              "    }\n",
              "\n",
              "    .colab-df-convert:hover {\n",
              "      background-color: #E2EBFA;\n",
              "      box-shadow: 0px 1px 2px rgba(60, 64, 67, 0.3), 0px 1px 3px 1px rgba(60, 64, 67, 0.15);\n",
              "      fill: #174EA6;\n",
              "    }\n",
              "\n",
              "    .colab-df-buttons div {\n",
              "      margin-bottom: 4px;\n",
              "    }\n",
              "\n",
              "    [theme=dark] .colab-df-convert {\n",
              "      background-color: #3B4455;\n",
              "      fill: #D2E3FC;\n",
              "    }\n",
              "\n",
              "    [theme=dark] .colab-df-convert:hover {\n",
              "      background-color: #434B5C;\n",
              "      box-shadow: 0px 1px 3px 1px rgba(0, 0, 0, 0.15);\n",
              "      filter: drop-shadow(0px 1px 2px rgba(0, 0, 0, 0.3));\n",
              "      fill: #FFFFFF;\n",
              "    }\n",
              "  </style>\n",
              "\n",
              "    <script>\n",
              "      const buttonEl =\n",
              "        document.querySelector('#df-058aedb4-7bd9-4f4b-8605-d36dd22217f3 button.colab-df-convert');\n",
              "      buttonEl.style.display =\n",
              "        google.colab.kernel.accessAllowed ? 'block' : 'none';\n",
              "\n",
              "      async function convertToInteractive(key) {\n",
              "        const element = document.querySelector('#df-058aedb4-7bd9-4f4b-8605-d36dd22217f3');\n",
              "        const dataTable =\n",
              "          await google.colab.kernel.invokeFunction('convertToInteractive',\n",
              "                                                    [key], {});\n",
              "        if (!dataTable) return;\n",
              "\n",
              "        const docLinkHtml = 'Like what you see? Visit the ' +\n",
              "          '<a target=\"_blank\" href=https://colab.research.google.com/notebooks/data_table.ipynb>data table notebook</a>'\n",
              "          + ' to learn more about interactive tables.';\n",
              "        element.innerHTML = '';\n",
              "        dataTable['output_type'] = 'display_data';\n",
              "        await google.colab.output.renderOutput(dataTable, element);\n",
              "        const docLink = document.createElement('div');\n",
              "        docLink.innerHTML = docLinkHtml;\n",
              "        element.appendChild(docLink);\n",
              "      }\n",
              "    </script>\n",
              "  </div>\n",
              "\n",
              "\n",
              "<div id=\"df-11e7031b-13f0-4fa1-b130-75f951b4bd49\">\n",
              "  <button class=\"colab-df-quickchart\" onclick=\"quickchart('df-11e7031b-13f0-4fa1-b130-75f951b4bd49')\"\n",
              "            title=\"Suggest charts\"\n",
              "            style=\"display:none;\">\n",
              "\n",
              "<svg xmlns=\"http://www.w3.org/2000/svg\" height=\"24px\"viewBox=\"0 0 24 24\"\n",
              "     width=\"24px\">\n",
              "    <g>\n",
              "        <path d=\"M19 3H5c-1.1 0-2 .9-2 2v14c0 1.1.9 2 2 2h14c1.1 0 2-.9 2-2V5c0-1.1-.9-2-2-2zM9 17H7v-7h2v7zm4 0h-2V7h2v10zm4 0h-2v-4h2v4z\"/>\n",
              "    </g>\n",
              "</svg>\n",
              "  </button>\n",
              "\n",
              "<style>\n",
              "  .colab-df-quickchart {\n",
              "      --bg-color: #E8F0FE;\n",
              "      --fill-color: #1967D2;\n",
              "      --hover-bg-color: #E2EBFA;\n",
              "      --hover-fill-color: #174EA6;\n",
              "      --disabled-fill-color: #AAA;\n",
              "      --disabled-bg-color: #DDD;\n",
              "  }\n",
              "\n",
              "  [theme=dark] .colab-df-quickchart {\n",
              "      --bg-color: #3B4455;\n",
              "      --fill-color: #D2E3FC;\n",
              "      --hover-bg-color: #434B5C;\n",
              "      --hover-fill-color: #FFFFFF;\n",
              "      --disabled-bg-color: #3B4455;\n",
              "      --disabled-fill-color: #666;\n",
              "  }\n",
              "\n",
              "  .colab-df-quickchart {\n",
              "    background-color: var(--bg-color);\n",
              "    border: none;\n",
              "    border-radius: 50%;\n",
              "    cursor: pointer;\n",
              "    display: none;\n",
              "    fill: var(--fill-color);\n",
              "    height: 32px;\n",
              "    padding: 0;\n",
              "    width: 32px;\n",
              "  }\n",
              "\n",
              "  .colab-df-quickchart:hover {\n",
              "    background-color: var(--hover-bg-color);\n",
              "    box-shadow: 0 1px 2px rgba(60, 64, 67, 0.3), 0 1px 3px 1px rgba(60, 64, 67, 0.15);\n",
              "    fill: var(--button-hover-fill-color);\n",
              "  }\n",
              "\n",
              "  .colab-df-quickchart-complete:disabled,\n",
              "  .colab-df-quickchart-complete:disabled:hover {\n",
              "    background-color: var(--disabled-bg-color);\n",
              "    fill: var(--disabled-fill-color);\n",
              "    box-shadow: none;\n",
              "  }\n",
              "\n",
              "  .colab-df-spinner {\n",
              "    border: 2px solid var(--fill-color);\n",
              "    border-color: transparent;\n",
              "    border-bottom-color: var(--fill-color);\n",
              "    animation:\n",
              "      spin 1s steps(1) infinite;\n",
              "  }\n",
              "\n",
              "  @keyframes spin {\n",
              "    0% {\n",
              "      border-color: transparent;\n",
              "      border-bottom-color: var(--fill-color);\n",
              "      border-left-color: var(--fill-color);\n",
              "    }\n",
              "    20% {\n",
              "      border-color: transparent;\n",
              "      border-left-color: var(--fill-color);\n",
              "      border-top-color: var(--fill-color);\n",
              "    }\n",
              "    30% {\n",
              "      border-color: transparent;\n",
              "      border-left-color: var(--fill-color);\n",
              "      border-top-color: var(--fill-color);\n",
              "      border-right-color: var(--fill-color);\n",
              "    }\n",
              "    40% {\n",
              "      border-color: transparent;\n",
              "      border-right-color: var(--fill-color);\n",
              "      border-top-color: var(--fill-color);\n",
              "    }\n",
              "    60% {\n",
              "      border-color: transparent;\n",
              "      border-right-color: var(--fill-color);\n",
              "    }\n",
              "    80% {\n",
              "      border-color: transparent;\n",
              "      border-right-color: var(--fill-color);\n",
              "      border-bottom-color: var(--fill-color);\n",
              "    }\n",
              "    90% {\n",
              "      border-color: transparent;\n",
              "      border-bottom-color: var(--fill-color);\n",
              "    }\n",
              "  }\n",
              "</style>\n",
              "\n",
              "  <script>\n",
              "    async function quickchart(key) {\n",
              "      const quickchartButtonEl =\n",
              "        document.querySelector('#' + key + ' button');\n",
              "      quickchartButtonEl.disabled = true;  // To prevent multiple clicks.\n",
              "      quickchartButtonEl.classList.add('colab-df-spinner');\n",
              "      try {\n",
              "        const charts = await google.colab.kernel.invokeFunction(\n",
              "            'suggestCharts', [key], {});\n",
              "      } catch (error) {\n",
              "        console.error('Error during call to suggestCharts:', error);\n",
              "      }\n",
              "      quickchartButtonEl.classList.remove('colab-df-spinner');\n",
              "      quickchartButtonEl.classList.add('colab-df-quickchart-complete');\n",
              "    }\n",
              "    (() => {\n",
              "      let quickchartButtonEl =\n",
              "        document.querySelector('#df-11e7031b-13f0-4fa1-b130-75f951b4bd49 button');\n",
              "      quickchartButtonEl.style.display =\n",
              "        google.colab.kernel.accessAllowed ? 'block' : 'none';\n",
              "    })();\n",
              "  </script>\n",
              "</div>\n",
              "\n",
              "    </div>\n",
              "  </div>\n"
            ],
            "application/vnd.google.colaboratory.intrinsic+json": {
              "type": "dataframe",
              "summary": "{\n  \"name\": \"df\",\n  \"rows\": 8,\n  \"fields\": [\n    {\n      \"column\": \"Unnamed: 0\",\n      \"properties\": {\n        \"dtype\": \"number\",\n        \"std\": 35.736237144555226,\n        \"min\": 1.0,\n        \"max\": 100.0,\n        \"num_unique_values\": 6,\n        \"samples\": [\n          100.0,\n          50.5,\n          75.25\n        ],\n        \"semantic_type\": \"\",\n        \"description\": \"\"\n      }\n    },\n    {\n      \"column\": \"molweight\",\n      \"properties\": {\n        \"dtype\": \"number\",\n        \"std\": 156.76129019112835,\n        \"min\": 58.08004,\n        \"max\": 547.68264,\n        \"num_unique_values\": 8,\n        \"samples\": [\n          157.13426224,\n          134.134998,\n          100.0\n        ],\n        \"semantic_type\": \"\",\n        \"description\": \"\"\n      }\n    },\n    {\n      \"column\": \"critical temperature (K)\",\n      \"properties\": {\n        \"dtype\": \"number\",\n        \"std\": 302.64233606034617,\n        \"min\": 100.0,\n        \"max\": 992.1,\n        \"num_unique_values\": 8,\n        \"samples\": [\n          634.884,\n          631.0,\n          100.0\n        ],\n        \"semantic_type\": \"\",\n        \"description\": \"\"\n      }\n    },\n    {\n      \"column\": \"acentric factor\",\n      \"properties\": {\n        \"dtype\": \"number\",\n        \"std\": 35.187838778823235,\n        \"min\": 0.18287880294243114,\n        \"max\": 100.0,\n        \"num_unique_values\": 8,\n        \"samples\": [\n          0.5216999999999999,\n          0.508,\n          100.0\n        ],\n        \"semantic_type\": \"\",\n        \"description\": \"\"\n      }\n    },\n    {\n      \"column\": \"boiling point (K)\",\n      \"properties\": {\n        \"dtype\": \"number\",\n        \"std\": 204.01036395175308,\n        \"min\": 97.89180775512145,\n        \"max\": 693.15,\n        \"num_unique_values\": 8,\n        \"samples\": [\n          448.5137,\n          436.225,\n          100.0\n        ],\n        \"semantic_type\": \"\",\n        \"description\": \"\"\n      }\n    },\n    {\n      \"column\": \"Unnamed: 6\",\n      \"properties\": {\n        \"dtype\": \"number\",\n        \"std\": null,\n        \"min\": 0.0,\n        \"max\": 0.0,\n        \"num_unique_values\": 1,\n        \"samples\": [\n          0.0\n        ],\n        \"semantic_type\": \"\",\n        \"description\": \"\"\n      }\n    },\n    {\n      \"column\": \"Unnamed: 7\",\n      \"properties\": {\n        \"dtype\": \"number\",\n        \"std\": null,\n        \"min\": 0.0,\n        \"max\": 0.0,\n        \"num_unique_values\": 1,\n        \"samples\": [\n          0.0\n        ],\n        \"semantic_type\": \"\",\n        \"description\": \"\"\n      }\n    },\n    {\n      \"column\": \"Unnamed: 8\",\n      \"properties\": {\n        \"dtype\": \"number\",\n        \"std\": null,\n        \"min\": 0.0,\n        \"max\": 0.0,\n        \"num_unique_values\": 1,\n        \"samples\": [\n          0.0\n        ],\n        \"semantic_type\": \"\",\n        \"description\": \"\"\n      }\n    },\n    {\n      \"column\": \"Unnamed: 9\",\n      \"properties\": {\n        \"dtype\": \"number\",\n        \"std\": null,\n        \"min\": 0.0,\n        \"max\": 0.0,\n        \"num_unique_values\": 1,\n        \"samples\": [\n          0.0\n        ],\n        \"semantic_type\": \"\",\n        \"description\": \"\"\n      }\n    }\n  ]\n}"
            }
          },
          "metadata": {},
          "execution_count": 3
        }
      ]
    },
    {
      "cell_type": "code",
      "source": [],
      "metadata": {
        "id": "aaaL-TM0pRzF"
      },
      "execution_count": null,
      "outputs": []
    },
    {
      "cell_type": "code",
      "source": [
        "# Let us look at the data\n",
        "df.columns"
      ],
      "metadata": {
        "id": "80rtfoTupqHS",
        "colab": {
          "base_uri": "https://localhost:8080/"
        },
        "outputId": "20c48f60-51f3-4ddf-a58d-ad749e5d9c7e"
      },
      "execution_count": null,
      "outputs": [
        {
          "output_type": "execute_result",
          "data": {
            "text/plain": [
              "Index(['Unnamed: 0', 'name', 'molweight', 'critical temperature (K)',\n",
              "       'acentric factor', 'boiling point (K)', 'Unnamed: 6', 'Unnamed: 7',\n",
              "       'Unnamed: 8', 'Unnamed: 9'],\n",
              "      dtype='object')"
            ]
          },
          "metadata": {},
          "execution_count": 4
        }
      ]
    },
    {
      "cell_type": "code",
      "source": [
        "# Form the feature vector and the output vector\n",
        "x_features = df[['molweight','critical temperature (K)', 'acentric factor']]\n",
        "y = df['boiling point (K)']\n",
        "\n"
      ],
      "metadata": {
        "id": "lDma5t-NdtIJ"
      },
      "execution_count": null,
      "outputs": []
    },
    {
      "cell_type": "code",
      "source": [
        "# let's start building the model by splitting the data into a train and test data set\n",
        "from sklearn.model_selection import train_test_split\n",
        "x_train, x_test, y_train, y_test = train_test_split(x_features, y, train_size=0.8,random_state=100)\n"
      ],
      "metadata": {
        "id": "zcErpF3LeXK9"
      },
      "execution_count": null,
      "outputs": []
    },
    {
      "cell_type": "code",
      "source": [
        "# start building a decision tree model\n",
        "from sklearn import tree\n",
        "import matplotlib.pyplot as plt\n",
        "bp_model = tree.DecisionTreeRegressor(min_samples_leaf=3)\n",
        "bp_model_fit = bp_model.fit(x_train,y_train)\n",
        "y_predict = bp_model_fit.predict(x_train)\n",
        "y_test_predict = bp_model_fit.predict(x_test)\n",
        "\n",
        "\n"
      ],
      "metadata": {
        "id": "il0VwhSNertd"
      },
      "execution_count": null,
      "outputs": []
    },
    {
      "cell_type": "code",
      "source": [
        "# parity plot for training data set\n",
        "plt.scatter(y_train,y_predict)\n",
        "plt.plot(y_train,y_train)\n",
        "plt.xlabel('Boiling point (training) (K)')\n",
        "plt.ylabel('Boiling point (predictions) (K)')\n",
        "plt.title('Training Data Set')"
      ],
      "metadata": {
        "colab": {
          "base_uri": "https://localhost:8080/",
          "height": 490
        },
        "id": "tdI7Vw0EeYaA",
        "outputId": "4680d898-4a2b-4cda-b83c-566767fa1d3c"
      },
      "execution_count": null,
      "outputs": [
        {
          "output_type": "execute_result",
          "data": {
            "text/plain": [
              "Text(0.5, 1.0, 'Training Data Set')"
            ]
          },
          "metadata": {},
          "execution_count": 9
        },
        {
          "output_type": "display_data",
          "data": {
            "text/plain": [
              "<Figure size 640x480 with 1 Axes>"
            ],
            "image/png": "[encoded data removed]"
          },
          "metadata": {}
        }
      ]
    },
    {
      "cell_type": "code",
      "source": [
        "this_score = bp_model.score(x_train,y_train)\n",
        "print(\"The score of the model %8.3f \"  % (this_score))"
      ],
      "metadata": {
        "colab": {
          "base_uri": "https://localhost:8080/"
        },
        "id": "isQ-eKEJfBr8",
        "outputId": "46118a0d-8eb1-4ee7-cc8d-d1fd34c91e07"
      },
      "execution_count": null,
      "outputs": [
        {
          "output_type": "stream",
          "name": "stdout",
          "text": [
            "The score of the model    0.975 \n"
          ]
        }
      ]
    },
    {
      "cell_type": "code",
      "source": [
        "# parity plot for training data set\n",
        "plt.scatter(y_test,y_test_predict)\n",
        "plt.plot(y_test,y_test)\n",
        "plt.xlabel('Boiling point (K)')\n",
        "plt.ylabel('Boiling point (predictions) (K)')\n",
        "plt.title('Test Data Set')"
      ],
      "metadata": {
        "colab": {
          "base_uri": "https://localhost:8080/",
          "height": 490
        },
        "id": "0hnKsJYif6x7",
        "outputId": "b4e0039c-08e9-43e8-cd3f-56880062ca40"
      },
      "execution_count": null,
      "outputs": [
        {
          "output_type": "execute_result",
          "data": {
            "text/plain": [
              "Text(0.5, 1.0, 'Test Data Set')"
            ]
          },
          "metadata": {},
          "execution_count": 12
        },
        {
          "output_type": "display_data",
          "data": {
            "text/plain": [
              "<Figure size 640x480 with 1 Axes>"
            ],
            "image/png": "[encoded data removed]"
          },
          "metadata": {}
        }
      ]
    },
    {
      "cell_type": "code",
      "source": [
        "# we want to visualize the tree\n",
        "\n",
        "import graphviz\n",
        "dot_data = tree.export_graphviz(bp_model_fit,out_file=None)\n",
        "graph = graphviz.Source(dot_data)\n",
        "graph"
      ],
      "metadata": {
        "id": "lVi_9EwhfXjJ",
        "colab": {
          "base_uri": "https://localhost:8080/",
          "height": 1000
        },
        "outputId": "3e65768a-2975-418e-ad4c-5ff1bf721da0"
      },
      "execution_count": null,
      "outputs": [
        {
          "output_type": "execute_result",
          "data": {
            "image/svg+xml": "<?xml version=\"1.0\" encoding=\"UTF-8\" standalone=\"no\"?>\n<!DOCTYPE svg PUBLIC \"-//W3C//DTD SVG 1.1//EN\"\n \"http://www.w3.org/Graphics/SVG/1.1/DTD/svg11.dtd\">\n<!-- Generated by graphviz version 2.43.0 (0)\n -->\n<!-- Title: Tree Pages: 1 -->\n<svg width=\"1707pt\" height=\"997pt\"\n viewBox=\"0.00 0.00 1706.50 997.00\" xmlns=\"http://www.w3.org/2000/svg\" xmlns:xlink=\"http://www.w3.org/1999/xlink\">\n<g id=\"graph0\" class=\"graph\" transform=\"scale(1 1) rotate(0) translate(4 993)\">\n<title>Tree</title>\n<polygon fill=\"white\" stroke=\"transparent\" points=\"-4,4 -4,-993 1702.5,-993 1702.5,4 -4,4\"/>\n<!-- 0 -->\n<g id=\"node1\" class=\"node\">\n<title>0</title>\n<polygon fill=\"none\" stroke=\"black\" points=\"1419.5,-989 1238.5,-989 1238.5,-921 1419.5,-921 1419.5,-989\"/>\n<text text-anchor=\"middle\" x=\"1329\" y=\"-973.8\" font-family=\"Helvetica,sans-Serif\" font-size=\"14.00\">x[1] &lt;= 722.5</text>\n<text text-anchor=\"middle\" x=\"1329\" y=\"-958.8\" font-family=\"Helvetica,sans-Serif\" font-size=\"14.00\">squared_error = 10062.628</text>\n<text text-anchor=\"middle\" x=\"1329\" y=\"-943.8\" font-family=\"Helvetica,sans-Serif\" font-size=\"14.00\">samples = 80</text>\n<text text-anchor=\"middle\" x=\"1329\" y=\"-928.8\" font-family=\"Helvetica,sans-Serif\" font-size=\"14.00\">value = 447.339</text>\n</g>\n<!-- 1 -->\n<g id=\"node2\" class=\"node\">\n<title>1</title>\n<polygon fill=\"none\" stroke=\"black\" points=\"1232,-885 1066,-885 1066,-817 1232,-817 1232,-885\"/>\n<text text-anchor=\"middle\" x=\"1149\" y=\"-869.8\" font-family=\"Helvetica,sans-Serif\" font-size=\"14.00\">x[1] &lt;= 557.17</text>\n<text text-anchor=\"middle\" x=\"1149\" y=\"-854.8\" font-family=\"Helvetica,sans-Serif\" font-size=\"14.00\">squared_error = 4414.15</text>\n<text text-anchor=\"middle\" x=\"1149\" y=\"-839.8\" font-family=\"Helvetica,sans-Serif\" font-size=\"14.00\">samples = 66</text>\n<text text-anchor=\"middle\" x=\"1149\" y=\"-824.8\" font-family=\"Helvetica,sans-Serif\" font-size=\"14.00\">value = 413.02</text>\n</g>\n<!-- 0&#45;&gt;1 -->\n<g id=\"edge1\" class=\"edge\">\n<title>0&#45;&gt;1</title>\n<path fill=\"none\" stroke=\"black\" d=\"M1270.56,-920.88C1253.34,-911.12 1234.35,-900.37 1216.61,-890.31\"/>\n<polygon fill=\"black\" stroke=\"black\" points=\"1217.88,-887.01 1207.46,-885.12 1214.43,-893.1 1217.88,-887.01\"/>\n<text text-anchor=\"middle\" x=\"1214.12\" y=\"-905.52\" font-family=\"Helvetica,sans-Serif\" font-size=\"14.00\">True</text>\n</g>\n<!-- 38 -->\n<g id=\"node39\" class=\"node\">\n<title>38</title>\n<polygon fill=\"none\" stroke=\"black\" points=\"1510.5,-885 1337.5,-885 1337.5,-817 1510.5,-817 1510.5,-885\"/>\n<text text-anchor=\"middle\" x=\"1424\" y=\"-869.8\" font-family=\"Helvetica,sans-Serif\" font-size=\"14.00\">x[1] &lt;= 820.065</text>\n<text text-anchor=\"middle\" x=\"1424\" y=\"-854.8\" font-family=\"Helvetica,sans-Serif\" font-size=\"14.00\">squared_error = 4963.536</text>\n<text text-anchor=\"middle\" x=\"1424\" y=\"-839.8\" font-family=\"Helvetica,sans-Serif\" font-size=\"14.00\">samples = 14</text>\n<text text-anchor=\"middle\" x=\"1424\" y=\"-824.8\" font-family=\"Helvetica,sans-Serif\" font-size=\"14.00\">value = 609.126</text>\n</g>\n<!-- 0&#45;&gt;38 -->\n<g id=\"edge38\" class=\"edge\">\n<title>0&#45;&gt;38</title>\n<path fill=\"none\" stroke=\"black\" d=\"M1359.84,-920.88C1368.22,-911.89 1377.39,-902.04 1386.11,-892.68\"/>\n<polygon fill=\"black\" stroke=\"black\" points=\"1388.73,-895 1392.99,-885.3 1383.61,-890.23 1388.73,-895\"/>\n<text text-anchor=\"middle\" x=\"1393.87\" y=\"-906.58\" font-family=\"Helvetica,sans-Serif\" font-size=\"14.00\">False</text>\n</g>\n<!-- 2 -->\n<g id=\"node3\" class=\"node\">\n<title>2</title>\n<polygon fill=\"none\" stroke=\"black\" points=\"706.5,-781 533.5,-781 533.5,-713 706.5,-713 706.5,-781\"/>\n<text text-anchor=\"middle\" x=\"620\" y=\"-765.8\" font-family=\"Helvetica,sans-Serif\" font-size=\"14.00\">x[1] &lt;= 502.315</text>\n<text text-anchor=\"middle\" x=\"620\" y=\"-750.8\" font-family=\"Helvetica,sans-Serif\" font-size=\"14.00\">squared_error = 2018.709</text>\n<text text-anchor=\"middle\" x=\"620\" y=\"-735.8\" font-family=\"Helvetica,sans-Serif\" font-size=\"14.00\">samples = 15</text>\n<text text-anchor=\"middle\" x=\"620\" y=\"-720.8\" font-family=\"Helvetica,sans-Serif\" font-size=\"14.00\">value = 311.671</text>\n</g>\n<!-- 1&#45;&gt;2 -->\n<g id=\"edge2\" class=\"edge\">\n<title>1&#45;&gt;2</title>\n<path fill=\"none\" stroke=\"black\" d=\"M1065.76,-833.95C971.1,-815.7 816.77,-785.94 716.81,-766.67\"/>\n<polygon fill=\"black\" stroke=\"black\" points=\"717.19,-763.18 706.71,-764.72 715.86,-770.05 717.19,-763.18\"/>\n</g>\n<!-- 11 -->\n<g id=\"node12\" class=\"node\">\n<title>11</title>\n<polygon fill=\"none\" stroke=\"black\" points=\"1235.5,-781 1062.5,-781 1062.5,-713 1235.5,-713 1235.5,-781\"/>\n<text text-anchor=\"middle\" x=\"1149\" y=\"-765.8\" font-family=\"Helvetica,sans-Serif\" font-size=\"14.00\">x[1] &lt;= 651.795</text>\n<text text-anchor=\"middle\" x=\"1149\" y=\"-750.8\" font-family=\"Helvetica,sans-Serif\" font-size=\"14.00\">squared_error = 1209.104</text>\n<text text-anchor=\"middle\" x=\"1149\" y=\"-735.8\" font-family=\"Helvetica,sans-Serif\" font-size=\"14.00\">samples = 51</text>\n<text text-anchor=\"middle\" x=\"1149\" y=\"-720.8\" font-family=\"Helvetica,sans-Serif\" font-size=\"14.00\">value = 442.828</text>\n</g>\n<!-- 1&#45;&gt;11 -->\n<g id=\"edge11\" class=\"edge\">\n<title>1&#45;&gt;11</title>\n<path fill=\"none\" stroke=\"black\" d=\"M1149,-816.88C1149,-808.78 1149,-799.98 1149,-791.47\"/>\n<polygon fill=\"black\" stroke=\"black\" points=\"1152.5,-791.3 1149,-781.3 1145.5,-791.3 1152.5,-791.3\"/>\n</g>\n<!-- 3 -->\n<g id=\"node4\" class=\"node\">\n<title>3</title>\n<polygon fill=\"none\" stroke=\"black\" points=\"438,-677 272,-677 272,-609 438,-609 438,-677\"/>\n<text text-anchor=\"middle\" x=\"355\" y=\"-661.8\" font-family=\"Helvetica,sans-Serif\" font-size=\"14.00\">x[1] &lt;= 420.985</text>\n<text text-anchor=\"middle\" x=\"355\" y=\"-646.8\" font-family=\"Helvetica,sans-Serif\" font-size=\"14.00\">squared_error = 468.075</text>\n<text text-anchor=\"middle\" x=\"355\" y=\"-631.8\" font-family=\"Helvetica,sans-Serif\" font-size=\"14.00\">samples = 9</text>\n<text text-anchor=\"middle\" x=\"355\" y=\"-616.8\" font-family=\"Helvetica,sans-Serif\" font-size=\"14.00\">value = 278.444</text>\n</g>\n<!-- 2&#45;&gt;3 -->\n<g id=\"edge3\" class=\"edge\">\n<title>2&#45;&gt;3</title>\n<path fill=\"none\" stroke=\"black\" d=\"M533.96,-712.88C506.4,-702.27 475.76,-690.48 447.74,-679.7\"/>\n<polygon fill=\"black\" stroke=\"black\" points=\"448.94,-676.41 438.35,-676.08 446.42,-682.94 448.94,-676.41\"/>\n</g>\n<!-- 8 -->\n<g id=\"node9\" class=\"node\">\n<title>8</title>\n<polygon fill=\"none\" stroke=\"black\" points=\"703,-677 537,-677 537,-609 703,-609 703,-677\"/>\n<text text-anchor=\"middle\" x=\"620\" y=\"-661.8\" font-family=\"Helvetica,sans-Serif\" font-size=\"14.00\">x[2] &lt;= 0.486</text>\n<text text-anchor=\"middle\" x=\"620\" y=\"-646.8\" font-family=\"Helvetica,sans-Serif\" font-size=\"14.00\">squared_error = 204.563</text>\n<text text-anchor=\"middle\" x=\"620\" y=\"-631.8\" font-family=\"Helvetica,sans-Serif\" font-size=\"14.00\">samples = 6</text>\n<text text-anchor=\"middle\" x=\"620\" y=\"-616.8\" font-family=\"Helvetica,sans-Serif\" font-size=\"14.00\">value = 361.512</text>\n</g>\n<!-- 2&#45;&gt;8 -->\n<g id=\"edge8\" class=\"edge\">\n<title>2&#45;&gt;8</title>\n<path fill=\"none\" stroke=\"black\" d=\"M620,-712.88C620,-704.78 620,-695.98 620,-687.47\"/>\n<polygon fill=\"black\" stroke=\"black\" points=\"623.5,-687.3 620,-677.3 616.5,-687.3 623.5,-687.3\"/>\n</g>\n<!-- 4 -->\n<g id=\"node5\" class=\"node\">\n<title>4</title>\n<polygon fill=\"none\" stroke=\"black\" points=\"254,-573 88,-573 88,-505 254,-505 254,-573\"/>\n<text text-anchor=\"middle\" x=\"171\" y=\"-557.8\" font-family=\"Helvetica,sans-Serif\" font-size=\"14.00\">x[1] &lt;= 402.525</text>\n<text text-anchor=\"middle\" x=\"171\" y=\"-542.8\" font-family=\"Helvetica,sans-Serif\" font-size=\"14.00\">squared_error = 105.006</text>\n<text text-anchor=\"middle\" x=\"171\" y=\"-527.8\" font-family=\"Helvetica,sans-Serif\" font-size=\"14.00\">samples = 6</text>\n<text text-anchor=\"middle\" x=\"171\" y=\"-512.8\" font-family=\"Helvetica,sans-Serif\" font-size=\"14.00\">value = 265.255</text>\n</g>\n<!-- 3&#45;&gt;4 -->\n<g id=\"edge4\" class=\"edge\">\n<title>3&#45;&gt;4</title>\n<path fill=\"none\" stroke=\"black\" d=\"M295.26,-608.88C277.5,-599.04 257.89,-588.17 239.61,-578.03\"/>\n<polygon fill=\"black\" stroke=\"black\" points=\"241.2,-574.91 230.75,-573.12 237.8,-581.03 241.2,-574.91\"/>\n</g>\n<!-- 7 -->\n<g id=\"node8\" class=\"node\">\n<title>7</title>\n<polygon fill=\"none\" stroke=\"black\" points=\"438,-565.5 272,-565.5 272,-512.5 438,-512.5 438,-565.5\"/>\n<text text-anchor=\"middle\" x=\"355\" y=\"-550.3\" font-family=\"Helvetica,sans-Serif\" font-size=\"14.00\">squared_error = 150.444</text>\n<text text-anchor=\"middle\" x=\"355\" y=\"-535.3\" font-family=\"Helvetica,sans-Serif\" font-size=\"14.00\">samples = 3</text>\n<text text-anchor=\"middle\" x=\"355\" y=\"-520.3\" font-family=\"Helvetica,sans-Serif\" font-size=\"14.00\">value = 304.823</text>\n</g>\n<!-- 3&#45;&gt;7 -->\n<g id=\"edge7\" class=\"edge\">\n<title>3&#45;&gt;7</title>\n<path fill=\"none\" stroke=\"black\" d=\"M355,-608.88C355,-598.33 355,-586.6 355,-575.85\"/>\n<polygon fill=\"black\" stroke=\"black\" points=\"358.5,-575.52 355,-565.52 351.5,-575.52 358.5,-575.52\"/>\n</g>\n<!-- 5 -->\n<g id=\"node6\" class=\"node\">\n<title>5</title>\n<polygon fill=\"none\" stroke=\"black\" points=\"166,-461.5 0,-461.5 0,-408.5 166,-408.5 166,-461.5\"/>\n<text text-anchor=\"middle\" x=\"83\" y=\"-446.3\" font-family=\"Helvetica,sans-Serif\" font-size=\"14.00\">squared_error = 129.986</text>\n<text text-anchor=\"middle\" x=\"83\" y=\"-431.3\" font-family=\"Helvetica,sans-Serif\" font-size=\"14.00\">samples = 3</text>\n<text text-anchor=\"middle\" x=\"83\" y=\"-416.3\" font-family=\"Helvetica,sans-Serif\" font-size=\"14.00\">value = 258.977</text>\n</g>\n<!-- 4&#45;&gt;5 -->\n<g id=\"edge5\" class=\"edge\">\n<title>4&#45;&gt;5</title>\n<path fill=\"none\" stroke=\"black\" d=\"M142.43,-504.88C132.56,-493.45 121.51,-480.63 111.63,-469.19\"/>\n<polygon fill=\"black\" stroke=\"black\" points=\"114.2,-466.81 105.02,-461.52 108.9,-471.38 114.2,-466.81\"/>\n</g>\n<!-- 6 -->\n<g id=\"node7\" class=\"node\">\n<title>6</title>\n<polygon fill=\"none\" stroke=\"black\" points=\"335.5,-461.5 184.5,-461.5 184.5,-408.5 335.5,-408.5 335.5,-461.5\"/>\n<text text-anchor=\"middle\" x=\"260\" y=\"-446.3\" font-family=\"Helvetica,sans-Serif\" font-size=\"14.00\">squared_error = 1.191</text>\n<text text-anchor=\"middle\" x=\"260\" y=\"-431.3\" font-family=\"Helvetica,sans-Serif\" font-size=\"14.00\">samples = 3</text>\n<text text-anchor=\"middle\" x=\"260\" y=\"-416.3\" font-family=\"Helvetica,sans-Serif\" font-size=\"14.00\">value = 271.533</text>\n</g>\n<!-- 4&#45;&gt;6 -->\n<g id=\"edge6\" class=\"edge\">\n<title>4&#45;&gt;6</title>\n<path fill=\"none\" stroke=\"black\" d=\"M199.9,-504.88C209.88,-493.45 221.05,-480.63 231.04,-469.19\"/>\n<polygon fill=\"black\" stroke=\"black\" points=\"233.8,-471.36 237.73,-461.52 228.52,-466.75 233.8,-471.36\"/>\n</g>\n<!-- 9 -->\n<g id=\"node10\" class=\"node\">\n<title>9</title>\n<polygon fill=\"none\" stroke=\"black\" points=\"607.5,-565.5 456.5,-565.5 456.5,-512.5 607.5,-512.5 607.5,-565.5\"/>\n<text text-anchor=\"middle\" x=\"532\" y=\"-550.3\" font-family=\"Helvetica,sans-Serif\" font-size=\"14.00\">squared_error = 171.2</text>\n<text text-anchor=\"middle\" x=\"532\" y=\"-535.3\" font-family=\"Helvetica,sans-Serif\" font-size=\"14.00\">samples = 3</text>\n<text text-anchor=\"middle\" x=\"532\" y=\"-520.3\" font-family=\"Helvetica,sans-Serif\" font-size=\"14.00\">value = 350.607</text>\n</g>\n<!-- 8&#45;&gt;9 -->\n<g id=\"edge9\" class=\"edge\">\n<title>8&#45;&gt;9</title>\n<path fill=\"none\" stroke=\"black\" d=\"M591.43,-608.88C581.56,-597.45 570.51,-584.63 560.63,-573.19\"/>\n<polygon fill=\"black\" stroke=\"black\" points=\"563.2,-570.81 554.02,-565.52 557.9,-575.38 563.2,-570.81\"/>\n</g>\n<!-- 10 -->\n<g id=\"node11\" class=\"node\">\n<title>10</title>\n<polygon fill=\"none\" stroke=\"black\" points=\"776.5,-565.5 625.5,-565.5 625.5,-512.5 776.5,-512.5 776.5,-565.5\"/>\n<text text-anchor=\"middle\" x=\"701\" y=\"-550.3\" font-family=\"Helvetica,sans-Serif\" font-size=\"14.00\">squared_error = 0.087</text>\n<text text-anchor=\"middle\" x=\"701\" y=\"-535.3\" font-family=\"Helvetica,sans-Serif\" font-size=\"14.00\">samples = 3</text>\n<text text-anchor=\"middle\" x=\"701\" y=\"-520.3\" font-family=\"Helvetica,sans-Serif\" font-size=\"14.00\">value = 372.417</text>\n</g>\n<!-- 8&#45;&gt;10 -->\n<g id=\"edge10\" class=\"edge\">\n<title>8&#45;&gt;10</title>\n<path fill=\"none\" stroke=\"black\" d=\"M646.3,-608.88C655.29,-597.56 665.36,-584.88 674.38,-573.52\"/>\n<polygon fill=\"black\" stroke=\"black\" points=\"677.26,-575.53 680.73,-565.52 671.77,-571.17 677.26,-575.53\"/>\n</g>\n<!-- 12 -->\n<g id=\"node13\" class=\"node\">\n<title>12</title>\n<polygon fill=\"none\" stroke=\"black\" points=\"1141,-677 983,-677 983,-609 1141,-609 1141,-677\"/>\n<text text-anchor=\"middle\" x=\"1062\" y=\"-661.8\" font-family=\"Helvetica,sans-Serif\" font-size=\"14.00\">x[2] &lt;= 0.71</text>\n<text text-anchor=\"middle\" x=\"1062\" y=\"-646.8\" font-family=\"Helvetica,sans-Serif\" font-size=\"14.00\">squared_error = 553.58</text>\n<text text-anchor=\"middle\" x=\"1062\" y=\"-631.8\" font-family=\"Helvetica,sans-Serif\" font-size=\"14.00\">samples = 34</text>\n<text text-anchor=\"middle\" x=\"1062\" y=\"-616.8\" font-family=\"Helvetica,sans-Serif\" font-size=\"14.00\">value = 424.04</text>\n</g>\n<!-- 11&#45;&gt;12 -->\n<g id=\"edge12\" class=\"edge\">\n<title>11&#45;&gt;12</title>\n<path fill=\"none\" stroke=\"black\" d=\"M1120.75,-712.88C1113.16,-703.98 1104.85,-694.24 1096.93,-684.96\"/>\n<polygon fill=\"black\" stroke=\"black\" points=\"1099.55,-682.64 1090.4,-677.3 1094.23,-687.18 1099.55,-682.64\"/>\n</g>\n<!-- 31 -->\n<g id=\"node32\" class=\"node\">\n<title>31</title>\n<polygon fill=\"none\" stroke=\"black\" points=\"1327,-677 1161,-677 1161,-609 1327,-609 1327,-677\"/>\n<text text-anchor=\"middle\" x=\"1244\" y=\"-661.8\" font-family=\"Helvetica,sans-Serif\" font-size=\"14.00\">x[0] &lt;= 137.258</text>\n<text text-anchor=\"middle\" x=\"1244\" y=\"-646.8\" font-family=\"Helvetica,sans-Serif\" font-size=\"14.00\">squared_error = 402.122</text>\n<text text-anchor=\"middle\" x=\"1244\" y=\"-631.8\" font-family=\"Helvetica,sans-Serif\" font-size=\"14.00\">samples = 17</text>\n<text text-anchor=\"middle\" x=\"1244\" y=\"-616.8\" font-family=\"Helvetica,sans-Serif\" font-size=\"14.00\">value = 480.405</text>\n</g>\n<!-- 11&#45;&gt;31 -->\n<g id=\"edge31\" class=\"edge\">\n<title>11&#45;&gt;31</title>\n<path fill=\"none\" stroke=\"black\" d=\"M1179.84,-712.88C1188.22,-703.89 1197.39,-694.04 1206.11,-684.68\"/>\n<polygon fill=\"black\" stroke=\"black\" points=\"1208.73,-687 1212.99,-677.3 1203.61,-682.23 1208.73,-687\"/>\n</g>\n<!-- 13 -->\n<g id=\"node14\" class=\"node\">\n<title>13</title>\n<polygon fill=\"none\" stroke=\"black\" points=\"961,-573 795,-573 795,-505 961,-505 961,-573\"/>\n<text text-anchor=\"middle\" x=\"878\" y=\"-557.8\" font-family=\"Helvetica,sans-Serif\" font-size=\"14.00\">x[1] &lt;= 563.845</text>\n<text text-anchor=\"middle\" x=\"878\" y=\"-542.8\" font-family=\"Helvetica,sans-Serif\" font-size=\"14.00\">squared_error = 316.146</text>\n<text text-anchor=\"middle\" x=\"878\" y=\"-527.8\" font-family=\"Helvetica,sans-Serif\" font-size=\"14.00\">samples = 25</text>\n<text text-anchor=\"middle\" x=\"878\" y=\"-512.8\" font-family=\"Helvetica,sans-Serif\" font-size=\"14.00\">value = 416.932</text>\n</g>\n<!-- 12&#45;&gt;13 -->\n<g id=\"edge13\" class=\"edge\">\n<title>12&#45;&gt;13</title>\n<path fill=\"none\" stroke=\"black\" d=\"M1002.26,-608.88C984.5,-599.04 964.89,-588.17 946.61,-578.03\"/>\n<polygon fill=\"black\" stroke=\"black\" points=\"948.2,-574.91 937.75,-573.12 944.8,-581.03 948.2,-574.91\"/>\n</g>\n<!-- 26 -->\n<g id=\"node27\" class=\"node\">\n<title>26</title>\n<polygon fill=\"none\" stroke=\"black\" points=\"1145,-573 979,-573 979,-505 1145,-505 1145,-573\"/>\n<text text-anchor=\"middle\" x=\"1062\" y=\"-557.8\" font-family=\"Helvetica,sans-Serif\" font-size=\"14.00\">x[0] &lt;= 116.697</text>\n<text text-anchor=\"middle\" x=\"1062\" y=\"-542.8\" font-family=\"Helvetica,sans-Serif\" font-size=\"14.00\">squared_error = 682.992</text>\n<text text-anchor=\"middle\" x=\"1062\" y=\"-527.8\" font-family=\"Helvetica,sans-Serif\" font-size=\"14.00\">samples = 9</text>\n<text text-anchor=\"middle\" x=\"1062\" y=\"-512.8\" font-family=\"Helvetica,sans-Serif\" font-size=\"14.00\">value = 443.783</text>\n</g>\n<!-- 12&#45;&gt;26 -->\n<g id=\"edge26\" class=\"edge\">\n<title>12&#45;&gt;26</title>\n<path fill=\"none\" stroke=\"black\" d=\"M1062,-608.88C1062,-600.78 1062,-591.98 1062,-583.47\"/>\n<polygon fill=\"black\" stroke=\"black\" points=\"1065.5,-583.3 1062,-573.3 1058.5,-583.3 1065.5,-583.3\"/>\n</g>\n<!-- 14 -->\n<g id=\"node15\" class=\"node\">\n<title>14</title>\n<polygon fill=\"none\" stroke=\"black\" points=\"778,-461.5 612,-461.5 612,-408.5 778,-408.5 778,-461.5\"/>\n<text text-anchor=\"middle\" x=\"695\" y=\"-446.3\" font-family=\"Helvetica,sans-Serif\" font-size=\"14.00\">squared_error = 144.439</text>\n<text text-anchor=\"middle\" x=\"695\" y=\"-431.3\" font-family=\"Helvetica,sans-Serif\" font-size=\"14.00\">samples = 3</text>\n<text text-anchor=\"middle\" x=\"695\" y=\"-416.3\" font-family=\"Helvetica,sans-Serif\" font-size=\"14.00\">value = 388.297</text>\n</g>\n<!-- 13&#45;&gt;14 -->\n<g id=\"edge14\" class=\"edge\">\n<title>13&#45;&gt;14</title>\n<path fill=\"none\" stroke=\"black\" d=\"M818.59,-504.88C796.39,-492.51 771.3,-478.53 749.56,-466.41\"/>\n<polygon fill=\"black\" stroke=\"black\" points=\"751.22,-463.33 740.79,-461.52 747.82,-469.45 751.22,-463.33\"/>\n</g>\n<!-- 15 -->\n<g id=\"node16\" class=\"node\">\n<title>15</title>\n<polygon fill=\"none\" stroke=\"black\" points=\"962,-469 796,-469 796,-401 962,-401 962,-469\"/>\n<text text-anchor=\"middle\" x=\"879\" y=\"-453.8\" font-family=\"Helvetica,sans-Serif\" font-size=\"14.00\">x[1] &lt;= 600.025</text>\n<text text-anchor=\"middle\" x=\"879\" y=\"-438.8\" font-family=\"Helvetica,sans-Serif\" font-size=\"14.00\">squared_error = 212.494</text>\n<text text-anchor=\"middle\" x=\"879\" y=\"-423.8\" font-family=\"Helvetica,sans-Serif\" font-size=\"14.00\">samples = 22</text>\n<text text-anchor=\"middle\" x=\"879\" y=\"-408.8\" font-family=\"Helvetica,sans-Serif\" font-size=\"14.00\">value = 420.837</text>\n</g>\n<!-- 13&#45;&gt;15 -->\n<g id=\"edge15\" class=\"edge\">\n<title>13&#45;&gt;15</title>\n<path fill=\"none\" stroke=\"black\" d=\"M878.32,-504.88C878.4,-496.78 878.49,-487.98 878.57,-479.47\"/>\n<polygon fill=\"black\" stroke=\"black\" points=\"882.08,-479.33 878.67,-469.3 875.08,-479.26 882.08,-479.33\"/>\n</g>\n<!-- 16 -->\n<g id=\"node17\" class=\"node\">\n<title>16</title>\n<polygon fill=\"none\" stroke=\"black\" points=\"778,-365 612,-365 612,-297 778,-297 778,-365\"/>\n<text text-anchor=\"middle\" x=\"695\" y=\"-349.8\" font-family=\"Helvetica,sans-Serif\" font-size=\"14.00\">x[2] &lt;= 0.398</text>\n<text text-anchor=\"middle\" x=\"695\" y=\"-334.8\" font-family=\"Helvetica,sans-Serif\" font-size=\"14.00\">squared_error = 109.805</text>\n<text text-anchor=\"middle\" x=\"695\" y=\"-319.8\" font-family=\"Helvetica,sans-Serif\" font-size=\"14.00\">samples = 9</text>\n<text text-anchor=\"middle\" x=\"695\" y=\"-304.8\" font-family=\"Helvetica,sans-Serif\" font-size=\"14.00\">value = 411.844</text>\n</g>\n<!-- 15&#45;&gt;16 -->\n<g id=\"edge16\" class=\"edge\">\n<title>15&#45;&gt;16</title>\n<path fill=\"none\" stroke=\"black\" d=\"M819.26,-400.88C801.5,-391.04 781.89,-380.17 763.61,-370.03\"/>\n<polygon fill=\"black\" stroke=\"black\" points=\"765.2,-366.91 754.75,-365.12 761.8,-373.03 765.2,-366.91\"/>\n</g>\n<!-- 19 -->\n<g id=\"node20\" class=\"node\">\n<title>19</title>\n<polygon fill=\"none\" stroke=\"black\" points=\"962,-365 796,-365 796,-297 962,-297 962,-365\"/>\n<text text-anchor=\"middle\" x=\"879\" y=\"-349.8\" font-family=\"Helvetica,sans-Serif\" font-size=\"14.00\">x[0] &lt;= 138.253</text>\n<text text-anchor=\"middle\" x=\"879\" y=\"-334.8\" font-family=\"Helvetica,sans-Serif\" font-size=\"14.00\">squared_error = 188.838</text>\n<text text-anchor=\"middle\" x=\"879\" y=\"-319.8\" font-family=\"Helvetica,sans-Serif\" font-size=\"14.00\">samples = 13</text>\n<text text-anchor=\"middle\" x=\"879\" y=\"-304.8\" font-family=\"Helvetica,sans-Serif\" font-size=\"14.00\">value = 427.063</text>\n</g>\n<!-- 15&#45;&gt;19 -->\n<g id=\"edge19\" class=\"edge\">\n<title>15&#45;&gt;19</title>\n<path fill=\"none\" stroke=\"black\" d=\"M879,-400.88C879,-392.78 879,-383.98 879,-375.47\"/>\n<polygon fill=\"black\" stroke=\"black\" points=\"882.5,-375.3 879,-365.3 875.5,-375.3 882.5,-375.3\"/>\n</g>\n<!-- 17 -->\n<g id=\"node18\" class=\"node\">\n<title>17</title>\n<polygon fill=\"none\" stroke=\"black\" points=\"601,-253.5 443,-253.5 443,-200.5 601,-200.5 601,-253.5\"/>\n<text text-anchor=\"middle\" x=\"522\" y=\"-238.3\" font-family=\"Helvetica,sans-Serif\" font-size=\"14.00\">squared_error = 90.167</text>\n<text text-anchor=\"middle\" x=\"522\" y=\"-223.3\" font-family=\"Helvetica,sans-Serif\" font-size=\"14.00\">samples = 3</text>\n<text text-anchor=\"middle\" x=\"522\" y=\"-208.3\" font-family=\"Helvetica,sans-Serif\" font-size=\"14.00\">value = 400.65</text>\n</g>\n<!-- 16&#45;&gt;17 -->\n<g id=\"edge17\" class=\"edge\">\n<title>16&#45;&gt;17</title>\n<path fill=\"none\" stroke=\"black\" d=\"M638.83,-296.88C618.03,-284.62 594.56,-270.78 574.13,-258.74\"/>\n<polygon fill=\"black\" stroke=\"black\" points=\"575.68,-255.58 565.28,-253.52 572.12,-261.61 575.68,-255.58\"/>\n</g>\n<!-- 18 -->\n<g id=\"node19\" class=\"node\">\n<title>18</title>\n<polygon fill=\"none\" stroke=\"black\" points=\"777,-253.5 619,-253.5 619,-200.5 777,-200.5 777,-253.5\"/>\n<text text-anchor=\"middle\" x=\"698\" y=\"-238.3\" font-family=\"Helvetica,sans-Serif\" font-size=\"14.00\">squared_error = 25.637</text>\n<text text-anchor=\"middle\" x=\"698\" y=\"-223.3\" font-family=\"Helvetica,sans-Serif\" font-size=\"14.00\">samples = 6</text>\n<text text-anchor=\"middle\" x=\"698\" y=\"-208.3\" font-family=\"Helvetica,sans-Serif\" font-size=\"14.00\">value = 417.442</text>\n</g>\n<!-- 16&#45;&gt;18 -->\n<g id=\"edge18\" class=\"edge\">\n<title>16&#45;&gt;18</title>\n<path fill=\"none\" stroke=\"black\" d=\"M695.97,-296.88C696.29,-286.22 696.64,-274.35 696.96,-263.52\"/>\n<polygon fill=\"black\" stroke=\"black\" points=\"700.45,-263.62 697.25,-253.52 693.46,-263.41 700.45,-263.62\"/>\n</g>\n<!-- 20 -->\n<g id=\"node21\" class=\"node\">\n<title>20</title>\n<polygon fill=\"none\" stroke=\"black\" points=\"951.5,-261 800.5,-261 800.5,-193 951.5,-193 951.5,-261\"/>\n<text text-anchor=\"middle\" x=\"876\" y=\"-245.8\" font-family=\"Helvetica,sans-Serif\" font-size=\"14.00\">x[1] &lt;= 639.02</text>\n<text text-anchor=\"middle\" x=\"876\" y=\"-230.8\" font-family=\"Helvetica,sans-Serif\" font-size=\"14.00\">squared_error = 63.78</text>\n<text text-anchor=\"middle\" x=\"876\" y=\"-215.8\" font-family=\"Helvetica,sans-Serif\" font-size=\"14.00\">samples = 10</text>\n<text text-anchor=\"middle\" x=\"876\" y=\"-200.8\" font-family=\"Helvetica,sans-Serif\" font-size=\"14.00\">value = 430.462</text>\n</g>\n<!-- 19&#45;&gt;20 -->\n<g id=\"edge20\" class=\"edge\">\n<title>19&#45;&gt;20</title>\n<path fill=\"none\" stroke=\"black\" d=\"M878.03,-296.88C877.79,-288.78 877.53,-279.98 877.28,-271.47\"/>\n<polygon fill=\"black\" stroke=\"black\" points=\"880.77,-271.19 876.98,-261.3 873.77,-271.4 880.77,-271.19\"/>\n</g>\n<!-- 25 -->\n<g id=\"node26\" class=\"node\">\n<title>25</title>\n<polygon fill=\"none\" stroke=\"black\" points=\"1136,-253.5 970,-253.5 970,-200.5 1136,-200.5 1136,-253.5\"/>\n<text text-anchor=\"middle\" x=\"1053\" y=\"-238.3\" font-family=\"Helvetica,sans-Serif\" font-size=\"14.00\">squared_error = 438.824</text>\n<text text-anchor=\"middle\" x=\"1053\" y=\"-223.3\" font-family=\"Helvetica,sans-Serif\" font-size=\"14.00\">samples = 3</text>\n<text text-anchor=\"middle\" x=\"1053\" y=\"-208.3\" font-family=\"Helvetica,sans-Serif\" font-size=\"14.00\">value = 415.733</text>\n</g>\n<!-- 19&#45;&gt;25 -->\n<g id=\"edge25\" class=\"edge\">\n<title>19&#45;&gt;25</title>\n<path fill=\"none\" stroke=\"black\" d=\"M935.49,-296.88C956.41,-284.62 980.02,-270.78 1000.57,-258.74\"/>\n<polygon fill=\"black\" stroke=\"black\" points=\"1002.61,-261.6 1009.47,-253.52 999.07,-255.56 1002.61,-261.6\"/>\n</g>\n<!-- 21 -->\n<g id=\"node22\" class=\"node\">\n<title>21</title>\n<polygon fill=\"none\" stroke=\"black\" points=\"867,-157 709,-157 709,-89 867,-89 867,-157\"/>\n<text text-anchor=\"middle\" x=\"788\" y=\"-141.8\" font-family=\"Helvetica,sans-Serif\" font-size=\"14.00\">x[1] &lt;= 615.725</text>\n<text text-anchor=\"middle\" x=\"788\" y=\"-126.8\" font-family=\"Helvetica,sans-Serif\" font-size=\"14.00\">squared_error = 17.921</text>\n<text text-anchor=\"middle\" x=\"788\" y=\"-111.8\" font-family=\"Helvetica,sans-Serif\" font-size=\"14.00\">samples = 7</text>\n<text text-anchor=\"middle\" x=\"788\" y=\"-96.8\" font-family=\"Helvetica,sans-Serif\" font-size=\"14.00\">value = 433.836</text>\n</g>\n<!-- 20&#45;&gt;21 -->\n<g id=\"edge21\" class=\"edge\">\n<title>20&#45;&gt;21</title>\n<path fill=\"none\" stroke=\"black\" d=\"M847.43,-192.88C839.74,-183.98 831.34,-174.24 823.34,-164.96\"/>\n<polygon fill=\"black\" stroke=\"black\" points=\"825.91,-162.58 816.73,-157.3 820.61,-167.16 825.91,-162.58\"/>\n</g>\n<!-- 24 -->\n<g id=\"node25\" class=\"node\">\n<title>24</title>\n<polygon fill=\"none\" stroke=\"black\" points=\"1043,-149.5 885,-149.5 885,-96.5 1043,-96.5 1043,-149.5\"/>\n<text text-anchor=\"middle\" x=\"964\" y=\"-134.3\" font-family=\"Helvetica,sans-Serif\" font-size=\"14.00\">squared_error = 82.258</text>\n<text text-anchor=\"middle\" x=\"964\" y=\"-119.3\" font-family=\"Helvetica,sans-Serif\" font-size=\"14.00\">samples = 3</text>\n<text text-anchor=\"middle\" x=\"964\" y=\"-104.3\" font-family=\"Helvetica,sans-Serif\" font-size=\"14.00\">value = 422.59</text>\n</g>\n<!-- 20&#45;&gt;24 -->\n<g id=\"edge24\" class=\"edge\">\n<title>20&#45;&gt;24</title>\n<path fill=\"none\" stroke=\"black\" d=\"M904.57,-192.88C914.44,-181.45 925.49,-168.63 935.37,-157.19\"/>\n<polygon fill=\"black\" stroke=\"black\" points=\"938.1,-159.38 941.98,-149.52 932.8,-154.81 938.1,-159.38\"/>\n</g>\n<!-- 22 -->\n<g id=\"node23\" class=\"node\">\n<title>22</title>\n<polygon fill=\"none\" stroke=\"black\" points=\"777.5,-53 626.5,-53 626.5,0 777.5,0 777.5,-53\"/>\n<text text-anchor=\"middle\" x=\"702\" y=\"-37.8\" font-family=\"Helvetica,sans-Serif\" font-size=\"14.00\">squared_error = 20.25</text>\n<text text-anchor=\"middle\" x=\"702\" y=\"-22.8\" font-family=\"Helvetica,sans-Serif\" font-size=\"14.00\">samples = 4</text>\n<text text-anchor=\"middle\" x=\"702\" y=\"-7.8\" font-family=\"Helvetica,sans-Serif\" font-size=\"14.00\">value = 432.65</text>\n</g>\n<!-- 21&#45;&gt;22 -->\n<g id=\"edge22\" class=\"edge\">\n<title>21&#45;&gt;22</title>\n<path fill=\"none\" stroke=\"black\" d=\"M757.92,-88.95C749.6,-79.8 740.56,-69.87 732.23,-60.71\"/>\n<polygon fill=\"black\" stroke=\"black\" points=\"734.74,-58.28 725.42,-53.24 729.56,-62.99 734.74,-58.28\"/>\n</g>\n<!-- 23 -->\n<g id=\"node24\" class=\"node\">\n<title>23</title>\n<polygon fill=\"none\" stroke=\"black\" points=\"954,-53 796,-53 796,0 954,0 954,-53\"/>\n<text text-anchor=\"middle\" x=\"875\" y=\"-37.8\" font-family=\"Helvetica,sans-Serif\" font-size=\"14.00\">squared_error = 10.442</text>\n<text text-anchor=\"middle\" x=\"875\" y=\"-22.8\" font-family=\"Helvetica,sans-Serif\" font-size=\"14.00\">samples = 3</text>\n<text text-anchor=\"middle\" x=\"875\" y=\"-7.8\" font-family=\"Helvetica,sans-Serif\" font-size=\"14.00\">value = 435.417</text>\n</g>\n<!-- 21&#45;&gt;23 -->\n<g id=\"edge23\" class=\"edge\">\n<title>21&#45;&gt;23</title>\n<path fill=\"none\" stroke=\"black\" d=\"M818.43,-88.95C826.85,-79.8 835.99,-69.87 844.42,-60.71\"/>\n<polygon fill=\"black\" stroke=\"black\" points=\"847.11,-62.96 851.31,-53.24 841.96,-58.22 847.11,-62.96\"/>\n</g>\n<!-- 27 -->\n<g id=\"node28\" class=\"node\">\n<title>27</title>\n<polygon fill=\"none\" stroke=\"black\" points=\"1140,-469 982,-469 982,-401 1140,-401 1140,-469\"/>\n<text text-anchor=\"middle\" x=\"1061\" y=\"-453.8\" font-family=\"Helvetica,sans-Serif\" font-size=\"14.00\">x[1] &lt;= 599.115</text>\n<text text-anchor=\"middle\" x=\"1061\" y=\"-438.8\" font-family=\"Helvetica,sans-Serif\" font-size=\"14.00\">squared_error = 228.52</text>\n<text text-anchor=\"middle\" x=\"1061\" y=\"-423.8\" font-family=\"Helvetica,sans-Serif\" font-size=\"14.00\">samples = 6</text>\n<text text-anchor=\"middle\" x=\"1061\" y=\"-408.8\" font-family=\"Helvetica,sans-Serif\" font-size=\"14.00\">value = 428.858</text>\n</g>\n<!-- 26&#45;&gt;27 -->\n<g id=\"edge27\" class=\"edge\">\n<title>26&#45;&gt;27</title>\n<path fill=\"none\" stroke=\"black\" d=\"M1061.68,-504.88C1061.6,-496.78 1061.51,-487.98 1061.43,-479.47\"/>\n<polygon fill=\"black\" stroke=\"black\" points=\"1064.92,-479.26 1061.33,-469.3 1057.92,-479.33 1064.92,-479.26\"/>\n</g>\n<!-- 30 -->\n<g id=\"node31\" class=\"node\">\n<title>30</title>\n<polygon fill=\"none\" stroke=\"black\" points=\"1324,-461.5 1158,-461.5 1158,-408.5 1324,-408.5 1324,-461.5\"/>\n<text text-anchor=\"middle\" x=\"1241\" y=\"-446.3\" font-family=\"Helvetica,sans-Serif\" font-size=\"14.00\">squared_error = 255.404</text>\n<text text-anchor=\"middle\" x=\"1241\" y=\"-431.3\" font-family=\"Helvetica,sans-Serif\" font-size=\"14.00\">samples = 3</text>\n<text text-anchor=\"middle\" x=\"1241\" y=\"-416.3\" font-family=\"Helvetica,sans-Serif\" font-size=\"14.00\">value = 473.633</text>\n</g>\n<!-- 26&#45;&gt;30 -->\n<g id=\"edge30\" class=\"edge\">\n<title>26&#45;&gt;30</title>\n<path fill=\"none\" stroke=\"black\" d=\"M1120.12,-504.88C1141.73,-492.57 1166.15,-478.65 1187.34,-466.57\"/>\n<polygon fill=\"black\" stroke=\"black\" points=\"1189.26,-469.51 1196.22,-461.52 1185.79,-463.43 1189.26,-469.51\"/>\n</g>\n<!-- 28 -->\n<g id=\"node29\" class=\"node\">\n<title>28</title>\n<polygon fill=\"none\" stroke=\"black\" points=\"1140,-357.5 982,-357.5 982,-304.5 1140,-304.5 1140,-357.5\"/>\n<text text-anchor=\"middle\" x=\"1061\" y=\"-342.3\" font-family=\"Helvetica,sans-Serif\" font-size=\"14.00\">squared_error = 53.045</text>\n<text text-anchor=\"middle\" x=\"1061\" y=\"-327.3\" font-family=\"Helvetica,sans-Serif\" font-size=\"14.00\">samples = 3</text>\n<text text-anchor=\"middle\" x=\"1061\" y=\"-312.3\" font-family=\"Helvetica,sans-Serif\" font-size=\"14.00\">value = 435.85</text>\n</g>\n<!-- 27&#45;&gt;28 -->\n<g id=\"edge28\" class=\"edge\">\n<title>27&#45;&gt;28</title>\n<path fill=\"none\" stroke=\"black\" d=\"M1061,-400.88C1061,-390.33 1061,-378.6 1061,-367.85\"/>\n<polygon fill=\"black\" stroke=\"black\" points=\"1064.5,-367.52 1061,-357.52 1057.5,-367.52 1064.5,-367.52\"/>\n</g>\n<!-- 29 -->\n<g id=\"node30\" class=\"node\">\n<title>29</title>\n<polygon fill=\"none\" stroke=\"black\" points=\"1324,-357.5 1158,-357.5 1158,-304.5 1324,-304.5 1324,-357.5\"/>\n<text text-anchor=\"middle\" x=\"1241\" y=\"-342.3\" font-family=\"Helvetica,sans-Serif\" font-size=\"14.00\">squared_error = 306.227</text>\n<text text-anchor=\"middle\" x=\"1241\" y=\"-327.3\" font-family=\"Helvetica,sans-Serif\" font-size=\"14.00\">samples = 3</text>\n<text text-anchor=\"middle\" x=\"1241\" y=\"-312.3\" font-family=\"Helvetica,sans-Serif\" font-size=\"14.00\">value = 421.867</text>\n</g>\n<!-- 27&#45;&gt;29 -->\n<g id=\"edge29\" class=\"edge\">\n<title>27&#45;&gt;29</title>\n<path fill=\"none\" stroke=\"black\" d=\"M1119.44,-400.88C1141.18,-388.57 1165.73,-374.65 1187.04,-362.57\"/>\n<polygon fill=\"black\" stroke=\"black\" points=\"1188.99,-365.5 1195.96,-357.52 1185.54,-359.41 1188.99,-365.5\"/>\n</g>\n<!-- 32 -->\n<g id=\"node33\" class=\"node\">\n<title>32</title>\n<polygon fill=\"none\" stroke=\"black\" points=\"1329,-565.5 1163,-565.5 1163,-512.5 1329,-512.5 1329,-565.5\"/>\n<text text-anchor=\"middle\" x=\"1246\" y=\"-550.3\" font-family=\"Helvetica,sans-Serif\" font-size=\"14.00\">squared_error = 258.599</text>\n<text text-anchor=\"middle\" x=\"1246\" y=\"-535.3\" font-family=\"Helvetica,sans-Serif\" font-size=\"14.00\">samples = 4</text>\n<text text-anchor=\"middle\" x=\"1246\" y=\"-520.3\" font-family=\"Helvetica,sans-Serif\" font-size=\"14.00\">value = 453.477</text>\n</g>\n<!-- 31&#45;&gt;32 -->\n<g id=\"edge32\" class=\"edge\">\n<title>31&#45;&gt;32</title>\n<path fill=\"none\" stroke=\"black\" d=\"M1244.65,-608.88C1244.86,-598.22 1245.09,-586.35 1245.3,-575.52\"/>\n<polygon fill=\"black\" stroke=\"black\" points=\"1248.8,-575.59 1245.5,-565.52 1241.8,-575.45 1248.8,-575.59\"/>\n</g>\n<!-- 33 -->\n<g id=\"node34\" class=\"node\">\n<title>33</title>\n<polygon fill=\"none\" stroke=\"black\" points=\"1513,-573 1347,-573 1347,-505 1513,-505 1513,-573\"/>\n<text text-anchor=\"middle\" x=\"1430\" y=\"-557.8\" font-family=\"Helvetica,sans-Serif\" font-size=\"14.00\">x[0] &lt;= 172.875</text>\n<text text-anchor=\"middle\" x=\"1430\" y=\"-542.8\" font-family=\"Helvetica,sans-Serif\" font-size=\"14.00\">squared_error = 154.525</text>\n<text text-anchor=\"middle\" x=\"1430\" y=\"-527.8\" font-family=\"Helvetica,sans-Serif\" font-size=\"14.00\">samples = 13</text>\n<text text-anchor=\"middle\" x=\"1430\" y=\"-512.8\" font-family=\"Helvetica,sans-Serif\" font-size=\"14.00\">value = 488.691</text>\n</g>\n<!-- 31&#45;&gt;33 -->\n<g id=\"edge33\" class=\"edge\">\n<title>31&#45;&gt;33</title>\n<path fill=\"none\" stroke=\"black\" d=\"M1304.39,-608.88C1322.35,-599.04 1342.16,-588.17 1360.64,-578.03\"/>\n<polygon fill=\"black\" stroke=\"black\" points=\"1362.51,-581 1369.6,-573.12 1359.15,-574.86 1362.51,-581\"/>\n</g>\n<!-- 34 -->\n<g id=\"node35\" class=\"node\">\n<title>34</title>\n<polygon fill=\"none\" stroke=\"black\" points=\"1503.5,-469 1352.5,-469 1352.5,-401 1503.5,-401 1503.5,-469\"/>\n<text text-anchor=\"middle\" x=\"1428\" y=\"-453.8\" font-family=\"Helvetica,sans-Serif\" font-size=\"14.00\">x[1] &lt;= 680.04</text>\n<text text-anchor=\"middle\" x=\"1428\" y=\"-438.8\" font-family=\"Helvetica,sans-Serif\" font-size=\"14.00\">squared_error = 48.54</text>\n<text text-anchor=\"middle\" x=\"1428\" y=\"-423.8\" font-family=\"Helvetica,sans-Serif\" font-size=\"14.00\">samples = 10</text>\n<text text-anchor=\"middle\" x=\"1428\" y=\"-408.8\" font-family=\"Helvetica,sans-Serif\" font-size=\"14.00\">value = 484.073</text>\n</g>\n<!-- 33&#45;&gt;34 -->\n<g id=\"edge34\" class=\"edge\">\n<title>33&#45;&gt;34</title>\n<path fill=\"none\" stroke=\"black\" d=\"M1429.35,-504.88C1429.19,-496.78 1429.02,-487.98 1428.85,-479.47\"/>\n<polygon fill=\"black\" stroke=\"black\" points=\"1432.35,-479.23 1428.65,-469.3 1425.35,-479.37 1432.35,-479.23\"/>\n</g>\n<!-- 37 -->\n<g id=\"node38\" class=\"node\">\n<title>37</title>\n<polygon fill=\"none\" stroke=\"black\" points=\"1688,-461.5 1522,-461.5 1522,-408.5 1688,-408.5 1688,-461.5\"/>\n<text text-anchor=\"middle\" x=\"1605\" y=\"-446.3\" font-family=\"Helvetica,sans-Serif\" font-size=\"14.00\">squared_error = 199.797</text>\n<text text-anchor=\"middle\" x=\"1605\" y=\"-431.3\" font-family=\"Helvetica,sans-Serif\" font-size=\"14.00\">samples = 3</text>\n<text text-anchor=\"middle\" x=\"1605\" y=\"-416.3\" font-family=\"Helvetica,sans-Serif\" font-size=\"14.00\">value = 504.083</text>\n</g>\n<!-- 33&#45;&gt;37 -->\n<g id=\"edge37\" class=\"edge\">\n<title>33&#45;&gt;37</title>\n<path fill=\"none\" stroke=\"black\" d=\"M1486.82,-504.88C1507.95,-492.57 1531.82,-478.65 1552.54,-466.57\"/>\n<polygon fill=\"black\" stroke=\"black\" points=\"1554.34,-469.58 1561.22,-461.52 1550.81,-463.53 1554.34,-469.58\"/>\n</g>\n<!-- 35 -->\n<g id=\"node36\" class=\"node\">\n<title>35</title>\n<polygon fill=\"none\" stroke=\"black\" points=\"1505,-357.5 1347,-357.5 1347,-304.5 1505,-304.5 1505,-357.5\"/>\n<text text-anchor=\"middle\" x=\"1426\" y=\"-342.3\" font-family=\"Helvetica,sans-Serif\" font-size=\"14.00\">squared_error = 40.536</text>\n<text text-anchor=\"middle\" x=\"1426\" y=\"-327.3\" font-family=\"Helvetica,sans-Serif\" font-size=\"14.00\">samples = 4</text>\n<text text-anchor=\"middle\" x=\"1426\" y=\"-312.3\" font-family=\"Helvetica,sans-Serif\" font-size=\"14.00\">value = 489.208</text>\n</g>\n<!-- 34&#45;&gt;35 -->\n<g id=\"edge35\" class=\"edge\">\n<title>34&#45;&gt;35</title>\n<path fill=\"none\" stroke=\"black\" d=\"M1427.35,-400.88C1427.14,-390.22 1426.91,-378.35 1426.7,-367.52\"/>\n<polygon fill=\"black\" stroke=\"black\" points=\"1430.2,-367.45 1426.5,-357.52 1423.2,-367.59 1430.2,-367.45\"/>\n</g>\n<!-- 36 -->\n<g id=\"node37\" class=\"node\">\n<title>36</title>\n<polygon fill=\"none\" stroke=\"black\" points=\"1681,-357.5 1523,-357.5 1523,-304.5 1681,-304.5 1681,-357.5\"/>\n<text text-anchor=\"middle\" x=\"1602\" y=\"-342.3\" font-family=\"Helvetica,sans-Serif\" font-size=\"14.00\">squared_error = 24.583</text>\n<text text-anchor=\"middle\" x=\"1602\" y=\"-327.3\" font-family=\"Helvetica,sans-Serif\" font-size=\"14.00\">samples = 6</text>\n<text text-anchor=\"middle\" x=\"1602\" y=\"-312.3\" font-family=\"Helvetica,sans-Serif\" font-size=\"14.00\">value = 480.65</text>\n</g>\n<!-- 34&#45;&gt;36 -->\n<g id=\"edge36\" class=\"edge\">\n<title>34&#45;&gt;36</title>\n<path fill=\"none\" stroke=\"black\" d=\"M1484.49,-400.88C1505.41,-388.62 1529.02,-374.78 1549.57,-362.74\"/>\n<polygon fill=\"black\" stroke=\"black\" points=\"1551.61,-365.6 1558.47,-357.52 1548.07,-359.56 1551.61,-365.6\"/>\n</g>\n<!-- 39 -->\n<g id=\"node40\" class=\"node\">\n<title>39</title>\n<polygon fill=\"none\" stroke=\"black\" points=\"1507,-781 1341,-781 1341,-713 1507,-713 1507,-781\"/>\n<text text-anchor=\"middle\" x=\"1424\" y=\"-765.8\" font-family=\"Helvetica,sans-Serif\" font-size=\"14.00\">x[2] &lt;= 0.623</text>\n<text text-anchor=\"middle\" x=\"1424\" y=\"-750.8\" font-family=\"Helvetica,sans-Serif\" font-size=\"14.00\">squared_error = 934.925</text>\n<text text-anchor=\"middle\" x=\"1424\" y=\"-735.8\" font-family=\"Helvetica,sans-Serif\" font-size=\"14.00\">samples = 7</text>\n<text text-anchor=\"middle\" x=\"1424\" y=\"-720.8\" font-family=\"Helvetica,sans-Serif\" font-size=\"14.00\">value = 546.504</text>\n</g>\n<!-- 38&#45;&gt;39 -->\n<g id=\"edge39\" class=\"edge\">\n<title>38&#45;&gt;39</title>\n<path fill=\"none\" stroke=\"black\" d=\"M1424,-816.88C1424,-808.78 1424,-799.98 1424,-791.47\"/>\n<polygon fill=\"black\" stroke=\"black\" points=\"1427.5,-791.3 1424,-781.3 1420.5,-791.3 1427.5,-791.3\"/>\n</g>\n<!-- 42 -->\n<g id=\"node43\" class=\"node\">\n<title>42</title>\n<polygon fill=\"none\" stroke=\"black\" points=\"1698.5,-773.5 1525.5,-773.5 1525.5,-720.5 1698.5,-720.5 1698.5,-773.5\"/>\n<text text-anchor=\"middle\" x=\"1612\" y=\"-758.3\" font-family=\"Helvetica,sans-Serif\" font-size=\"14.00\">squared_error = 1149.081</text>\n<text text-anchor=\"middle\" x=\"1612\" y=\"-743.3\" font-family=\"Helvetica,sans-Serif\" font-size=\"14.00\">samples = 7</text>\n<text text-anchor=\"middle\" x=\"1612\" y=\"-728.3\" font-family=\"Helvetica,sans-Serif\" font-size=\"14.00\">value = 671.749</text>\n</g>\n<!-- 38&#45;&gt;42 -->\n<g id=\"edge42\" class=\"edge\">\n<title>38&#45;&gt;42</title>\n<path fill=\"none\" stroke=\"black\" d=\"M1485.04,-816.88C1507.84,-804.51 1533.61,-790.53 1555.94,-778.41\"/>\n<polygon fill=\"black\" stroke=\"black\" points=\"1557.84,-781.37 1564.96,-773.52 1554.5,-775.21 1557.84,-781.37\"/>\n</g>\n<!-- 40 -->\n<g id=\"node41\" class=\"node\">\n<title>40</title>\n<polygon fill=\"none\" stroke=\"black\" points=\"1503,-669.5 1345,-669.5 1345,-616.5 1503,-616.5 1503,-669.5\"/>\n<text text-anchor=\"middle\" x=\"1424\" y=\"-654.3\" font-family=\"Helvetica,sans-Serif\" font-size=\"14.00\">squared_error = 22.222</text>\n<text text-anchor=\"middle\" x=\"1424\" y=\"-639.3\" font-family=\"Helvetica,sans-Serif\" font-size=\"14.00\">samples = 3</text>\n<text text-anchor=\"middle\" x=\"1424\" y=\"-624.3\" font-family=\"Helvetica,sans-Serif\" font-size=\"14.00\">value = 526.483</text>\n</g>\n<!-- 39&#45;&gt;40 -->\n<g id=\"edge40\" class=\"edge\">\n<title>39&#45;&gt;40</title>\n<path fill=\"none\" stroke=\"black\" d=\"M1424,-712.88C1424,-702.33 1424,-690.6 1424,-679.85\"/>\n<polygon fill=\"black\" stroke=\"black\" points=\"1427.5,-679.52 1424,-669.52 1420.5,-679.52 1427.5,-679.52\"/>\n</g>\n<!-- 41 -->\n<g id=\"node42\" class=\"node\">\n<title>41</title>\n<polygon fill=\"none\" stroke=\"black\" points=\"1694.5,-669.5 1521.5,-669.5 1521.5,-616.5 1694.5,-616.5 1694.5,-669.5\"/>\n<text text-anchor=\"middle\" x=\"1608\" y=\"-654.3\" font-family=\"Helvetica,sans-Serif\" font-size=\"14.00\">squared_error = 1093.351</text>\n<text text-anchor=\"middle\" x=\"1608\" y=\"-639.3\" font-family=\"Helvetica,sans-Serif\" font-size=\"14.00\">samples = 4</text>\n<text text-anchor=\"middle\" x=\"1608\" y=\"-624.3\" font-family=\"Helvetica,sans-Serif\" font-size=\"14.00\">value = 561.52</text>\n</g>\n<!-- 39&#45;&gt;41 -->\n<g id=\"edge41\" class=\"edge\">\n<title>39&#45;&gt;41</title>\n<path fill=\"none\" stroke=\"black\" d=\"M1483.74,-712.88C1506.06,-700.51 1531.28,-686.53 1553.14,-674.41\"/>\n<polygon fill=\"black\" stroke=\"black\" points=\"1554.91,-677.43 1561.96,-669.52 1551.52,-671.31 1554.91,-677.43\"/>\n</g>\n</g>\n</svg>\n",
            "text/plain": [
              "<graphviz.sources.Source at 0x7f44c1749030>"
            ]
          },
          "metadata": {},
          "execution_count": 13
        }
      ]
    },
    {
      "cell_type": "code",
      "source": [
        "# Let's develop a random forest model\n",
        "from sklearn.ensemble import RandomForestRegressor\n",
        "rf_model = RandomForestRegressor()\n",
        "rf_model.fit(x_train,y_train)\n",
        "y_predict_rf = rf_model.predict(x_train)"
      ],
      "metadata": {
        "id": "sat-ijzme_mk"
      },
      "execution_count": null,
      "outputs": []
    },
    {
      "cell_type": "code",
      "source": [
        "bp_model.feature_importances_"
      ],
      "metadata": {
        "id": "_QrgJNv828_5",
        "colab": {
          "base_uri": "https://localhost:8080/"
        },
        "outputId": "162c0143-6090-42f5-97d7-f80c729a182c"
      },
      "execution_count": null,
      "outputs": [
        {
          "output_type": "execute_result",
          "data": {
            "text/plain": [
              "array([0.01175657, 0.97785545, 0.01038798])"
            ]
          },
          "metadata": {},
          "execution_count": 14
        }
      ]
    },
    {
      "cell_type": "code",
      "source": [
        "bp_model.feature_names_in_"
      ],
      "metadata": {
        "colab": {
          "base_uri": "https://localhost:8080/"
        },
        "id": "ytRGFDWMiQmi",
        "outputId": "8dd240e5-ad36-41db-f43a-e2dbc5b3827c"
      },
      "execution_count": null,
      "outputs": [
        {
          "output_type": "execute_result",
          "data": {
            "text/plain": [
              "array(['molweight', 'critical temperature (K)', 'acentric factor'],\n",
              "      dtype=object)"
            ]
          },
          "metadata": {},
          "execution_count": 15
        }
      ]
    },
    {
      "cell_type": "code",
      "source": [
        "plt.bar(bp_model.feature_names_in_,bp_model.feature_importances_)"
      ],
      "metadata": {
        "colab": {
          "base_uri": "https://localhost:8080/",
          "height": 448
        },
        "id": "1wwFLtSSiXGF",
        "outputId": "f784c0d1-c388-4dcf-d0c8-55098d872799"
      },
      "execution_count": null,
      "outputs": [
        {
          "output_type": "execute_result",
          "data": {
            "text/plain": [
              "<BarContainer object of 3 artists>"
            ]
          },
          "metadata": {},
          "execution_count": 16
        },
        {
          "output_type": "display_data",
          "data": {
            "text/plain": [
              "<Figure size 640x480 with 1 Axes>"
            ],
            "image/png": "[encoded data removed]"
          },
          "metadata": {}
        }
      ]
    },
    {
      "cell_type": "code",
      "source": [],
      "metadata": {
        "id": "H2c-xWOyiklp"
      },
      "execution_count": null,
      "outputs": []
    }
  ]
}